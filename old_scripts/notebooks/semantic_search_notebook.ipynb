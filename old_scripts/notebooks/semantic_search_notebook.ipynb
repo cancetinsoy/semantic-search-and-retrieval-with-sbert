{
 "cells": [
  {
   "cell_type": "code",
   "execution_count": 1,
   "metadata": {},
   "outputs": [
    {
     "ename": "ModuleNotFoundError",
     "evalue": "No module named 'scripts.embed_documents'",
     "output_type": "error",
     "traceback": [
      "\u001b[0;31m---------------------------------------------------------------------------\u001b[0m",
      "\u001b[0;31mModuleNotFoundError\u001b[0m                       Traceback (most recent call last)",
      "Cell \u001b[0;32mIn[1], line 2\u001b[0m\n\u001b[1;32m      1\u001b[0m \u001b[38;5;66;03m# Import required modules\u001b[39;00m\n\u001b[0;32m----> 2\u001b[0m \u001b[38;5;28;01mfrom\u001b[39;00m \u001b[38;5;21;01mscripts\u001b[39;00m\u001b[38;5;21;01m.\u001b[39;00m\u001b[38;5;21;01membed_documents\u001b[39;00m \u001b[38;5;28;01mimport\u001b[39;00m preprocess_and_embed_documents\n\u001b[1;32m      3\u001b[0m \u001b[38;5;28;01mfrom\u001b[39;00m \u001b[38;5;21;01mscripts\u001b[39;00m\u001b[38;5;21;01m.\u001b[39;00m\u001b[38;5;21;01msearch_query\u001b[39;00m \u001b[38;5;28;01mimport\u001b[39;00m preprocess_and_search_query\n\u001b[1;32m      4\u001b[0m \u001b[38;5;28;01mfrom\u001b[39;00m \u001b[38;5;21;01msrc\u001b[39;00m\u001b[38;5;21;01m.\u001b[39;00m\u001b[38;5;21;01mevaluation\u001b[39;00m \u001b[38;5;28;01mimport\u001b[39;00m evaluate_precision_recall\n",
      "\u001b[0;31mModuleNotFoundError\u001b[0m: No module named 'scripts.embed_documents'"
     ]
    }
   ],
   "source": [
    "# Import required modules\n",
    "from scripts.embed_documents import preprocess_and_embed_documents\n",
    "from scripts.search_query import preprocess_and_search_query\n",
    "from src.evaluation import evaluate_precision_recall\n",
    "from sentence_transformers import SentenceTransformer\n",
    "from scipy.spatial.distance import cosine\n",
    "from collections import defaultdict\n",
    "import numpy as np\n",
    "import pandas as pd\n",
    "import os"
   ]
  },
  {
   "cell_type": "code",
   "execution_count": null,
   "metadata": {},
   "outputs": [],
   "source": [
    "\n",
    "# 1. EMBEDDINGS\n",
    "# Load and embed documents\n",
    "def load_texts_from_folder(folder_path):\n",
    "    texts = []\n",
    "    for filename in os.listdir(folder_path):\n",
    "        if filename.endswith(\".txt\"):\n",
    "            with open(os.path.join(folder_path, filename), \"r\", encoding=\"utf-8\") as file:\n",
    "                texts.append(file.read())\n",
    "    return texts\n",
    "\n",
    "class EmbeddingModel:\n",
    "    def __init__(self, model_name='all-mpnet-base-v2'):\n",
    "        self.model = SentenceTransformer(model_name)\n",
    "\n",
    "    def generate_embeddings(self, texts):\n",
    "        return np.array(self.model.encode(texts, convert_to_numpy=True))\n",
    "\n",
    "    def save_embeddings(self, embeddings, filepath):\n",
    "        np.save(filepath, embeddings)\n",
    "\n",
    "    def load_embeddings(self, filepath):\n",
    "        return np.load(filepath)\n",
    "\n",
    "# Load documents and generate embeddings\n",
    "data_folder = \"../data/full_docs_small\"\n",
    "documents = load_texts_from_folder(data_folder)\n",
    "embedding_model = EmbeddingModel()\n",
    "\n",
    "if not os.path.exists(\"../data/full_docs_embeddings.npy\"):\n",
    "    document_embeddings = embedding_model.generate_embeddings(documents)\n",
    "    embedding_model.save_embeddings(document_embeddings, \"../data/full_docs_embeddings.npy\")\n",
    "else:\n",
    "    document_embeddings = embedding_model.load_embeddings(\"../data/full_docs_embeddings.npy\")\n",
    "\n",
    "print(f\"Document embeddings shape: {document_embeddings.shape}\")"
   ]
  },
  {
   "cell_type": "code",
   "execution_count": null,
   "metadata": {},
   "outputs": [],
   "source": [
    "\n",
    "# 2. SEARCHING\n",
    "class SearchEngine:\n",
    "    def __init__(self, document_embeddings):\n",
    "        self.document_embeddings = document_embeddings\n",
    "\n",
    "    def search(self, query_embedding, top_k=10):\n",
    "        similarities = [\n",
    "            1 - cosine(query_embedding, doc_embedding)\n",
    "            for doc_embedding in self.document_embeddings\n",
    "        ]\n",
    "        ranked_results = sorted(\n",
    "            enumerate(similarities), key=lambda x: x[1], reverse=True\n",
    "        )\n",
    "        return ranked_results[:top_k]\n",
    "\n",
    "# Load queries\n",
    "queries_path = \"../data/dev_small_queries - dev_small_queries.csv\"\n",
    "queries_df = pd.read_csv(queries_path)\n",
    "queries = queries_df['Query'].tolist()\n",
    "\n",
    "# Test search with the first query\n",
    "query_embedding = embedding_model.generate_embeddings([queries[0]])[0]\n",
    "search_engine = SearchEngine(document_embeddings)\n",
    "results = search_engine.search(query_embedding)\n",
    "\n",
    "print(\"Query:\", queries[0])\n",
    "print(\"Top Results:\", results)\n"
   ]
  },
  {
   "cell_type": "code",
   "execution_count": null,
   "metadata": {},
   "outputs": [],
   "source": [
    "# 3. EVALUATION\n",
    "def evaluate_precision_recall(results, ground_truth, k_values):\n",
    "    precision_at_k = {}\n",
    "    recall_at_k = {}\n",
    "    \n",
    "    for k in k_values:\n",
    "        precisions = []\n",
    "        recalls = []\n",
    "        for query_id, retrieved_docs in results.items():\n",
    "            relevant_docs = set(ground_truth[query_id])  # Relevant documents for this query\n",
    "            retrieved_at_k = {doc[0] for doc in retrieved_docs[:k]}  # Top-k retrieved docs\n",
    "            \n",
    "            # Calculate precision and recall\n",
    "            precision = len(retrieved_at_k & relevant_docs) / max(1, k)\n",
    "            recall = len(retrieved_at_k & relevant_docs) / max(1, len(relevant_docs))\n",
    "            \n",
    "            precisions.append(precision)\n",
    "            recalls.append(recall)\n",
    "        \n",
    "        # Average precision and recall across all queries for this value of k\n",
    "        precision_at_k[k] = sum(precisions) / len(precisions)\n",
    "        recall_at_k[k] = sum(recalls) / len(recalls)\n",
    "    \n",
    "    return precision_at_k, recall_at_k"
   ]
  },
  {
   "cell_type": "code",
   "execution_count": null,
   "metadata": {},
   "outputs": [],
   "source": [
    "# Initialize results as an empty dictionary\n",
    "results = {}\n",
    "\n",
    "# Debugging: Check query data\n",
    "print(f\"Queries DataFrame shape: {queries_df.shape}\")\n",
    "print(f\"Number of queries: {len(queries_df)}\")\n",
    "print(f\"Sample Query Numbers: {queries_df['Query number'][:5]}\")\n",
    "print(f\"Sample Queries: {queries_df['Query'][:5]}\")\n",
    "\n",
    "# Perform search for all queries\n",
    "for query_number, query_text in zip(queries_df['Query number'], queries_df['Query']):\n",
    "    print(f\"Query Number: {query_number}, Query Text: {query_text}\")\n",
    "    \n",
    "    # Preprocess query and perform search\n",
    "    search_results = preprocess_and_search_query(query_text, document_embeddings)\n",
    "    print(f\"Search Results: {search_results[:5]}\")\n",
    "    \n",
    "    # Add results to dictionary\n",
    "    results[query_number] = search_results\n",
    "\n",
    "# Debugging: Print a sample of the results\n",
    "print(f\"Sample results: {list(results.items())[:5]}\")"
   ]
  },
  {
   "cell_type": "code",
   "execution_count": null,
   "metadata": {},
   "outputs": [],
   "source": [
    "ground_truth = defaultdict(list)\n",
    "for _, row in ground_truth_df.iterrows():\n",
    "    ground_truth[row['Query_number']].append(row['doc_number'])"
   ]
  },
  {
   "cell_type": "code",
   "execution_count": null,
   "metadata": {},
   "outputs": [],
   "source": [
    "k_values = [1, 3, 5, 10]\n",
    "\n",
    "# Evaluate Precision and Recall\n",
    "print(\"Step 3: Evaluating Precision and Recall...\")\n",
    "precision, recall = evaluate_precision_recall(results, ground_truth, k_values)\n",
    "\n",
    "print(\"Precision@k:\", precision)\n",
    "print(\"Recall@k:\", recall)"
   ]
  },
  {
   "cell_type": "code",
   "execution_count": null,
   "metadata": {},
   "outputs": [],
   "source": [
    "# Initialize results as an empty dictionary\n",
    "results = {}\n",
    "\n",
    "# Debugging: Check query data\n",
    "print(f\"Queries DataFrame shape: {queries_df.shape}\")\n",
    "print(f\"Number of queries: {len(queries)}\")\n",
    "print(f\"Sample Query Numbers: {queries_df['Query number'][:5]}\")\n",
    "print(f\"Sample Queries: {queries[:5]}\")\n",
    "\n",
    "# Perform search for all queries\n",
    "for query_number, query_text in zip(queries_df['Query number'], queries):\n",
    "    print(f\"Query Number: {query_number}, Query Text: {query_text}\")\n",
    "    \n",
    "    # Generate query embedding\n",
    "    query_embedding = embedding_model.generate_embeddings([query_text])[0]\n",
    "    \n",
    "    # Perform search\n",
    "    search_results = search_engine.search(query_embedding)\n",
    "    print(f\"Search Results: {search_results}\")\n",
    "    \n",
    "    # Add results to dictionary\n",
    "    results[query_number] = search_results\n",
    "\n",
    "# Debugging: Print a sample of the results\n",
    "print(f\"Sample results: {list(results.items())[:5]}\")"
   ]
  }
 ],
 "metadata": {
  "kernelspec": {
   "display_name": "base",
   "language": "python",
   "name": "base"
  },
  "language_info": {
   "codemirror_mode": {
    "name": "ipython",
    "version": 3
   },
   "file_extension": ".py",
   "mimetype": "text/x-python",
   "name": "python",
   "nbconvert_exporter": "python",
   "pygments_lexer": "ipython3",
   "version": "3.10.12"
  }
 },
 "nbformat": 4,
 "nbformat_minor": 2
}
