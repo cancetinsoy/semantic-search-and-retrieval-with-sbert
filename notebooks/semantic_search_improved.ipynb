{
 "cells": [
  {
   "cell_type": "code",
   "execution_count": null,
   "metadata": {},
   "outputs": [
    {
     "ename": "ModuleNotFoundError",
     "evalue": "No module named 'scripts'",
     "output_type": "error",
     "traceback": [
      "\u001b[0;31m---------------------------------------------------------------------------\u001b[0m",
      "\u001b[0;31mModuleNotFoundError\u001b[0m                       Traceback (most recent call last)",
      "Cell \u001b[0;32mIn[3], line 1\u001b[0m\n\u001b[0;32m----> 1\u001b[0m \u001b[38;5;28;01mfrom\u001b[39;00m \u001b[38;5;21;01mscripts\u001b[39;00m\u001b[38;5;21;01m.\u001b[39;00m\u001b[38;5;21;01membed_documents\u001b[39;00m \u001b[38;5;28;01mimport\u001b[39;00m preprocess_and_embed_documents\n\u001b[1;32m      2\u001b[0m \u001b[38;5;28;01mfrom\u001b[39;00m \u001b[38;5;21;01mscripts\u001b[39;00m\u001b[38;5;21;01m.\u001b[39;00m\u001b[38;5;21;01msearch_query\u001b[39;00m \u001b[38;5;28;01mimport\u001b[39;00m preprocess_query, perform_search\n\u001b[1;32m      3\u001b[0m \u001b[38;5;28;01mfrom\u001b[39;00m \u001b[38;5;21;01msrc\u001b[39;00m\u001b[38;5;21;01m.\u001b[39;00m\u001b[38;5;21;01mevaluation\u001b[39;00m \u001b[38;5;28;01mimport\u001b[39;00m evaluate_precision_recall\n",
      "\u001b[0;31mModuleNotFoundError\u001b[0m: No module named 'scripts'"
     ]
    }
   ],
   "source": [
    "from scripts.embed_documents import preprocess_and_embed_documents\n",
    "from scripts.search_query import preprocess_query, perform_search\n",
    "from src.evaluation import evaluate_precision_recall\n",
    "from sentence_transformers import SentenceTransformer\n",
    "import pandas as pd\n",
    "\n",
    "# Step 1: Load the Data\n",
    "documents_df = pd.read_csv('../data/documents.csv')\n",
    "queries_df = pd.read_csv('../data/queries.csv')\n",
    "ground_truth = pd.read_csv('../data/ground_truth.csv')\n",
    "\n",
    "# Extract document texts and query texts\n",
    "documents = documents_df['Document'].tolist()\n",
    "queries = queries_df['Query'].tolist()\n",
    "\n",
    "# Step 2: Preprocess and Embed Documents\n",
    "print(\"Step 2: Preprocessing and Embedding Documents...\")\n",
    "\n",
    "document_embeddings = preprocess_and_embed_documents(documents)\n",
    "\n",
    "print(f\"Number of Document Embeddings: {len(document_embeddings)}\")\n",
    "print(f\"Sample Document Embedding Shape: {document_embeddings[0].shape}\")\n",
    "\n",
    "# Step 3: Search and Generate Query Embeddings\n",
    "print(\"\\nStep 3: Preprocessing Queries and Generating Embeddings...\")\n",
    "\n",
    "# Initialize SBERT Model\n",
    "model = SentenceTransformer('all-mpnet-base-v2')\n",
    "results = {}\n",
    "\n",
    "for query_number, query_text in zip(queries_df['Query number'], queries):\n",
    "    # Preprocess and embed query\n",
    "    preprocessed_query = preprocess_query(query_text)\n",
    "    query_embedding = model.encode(preprocessed_query, convert_to_tensor=True)\n",
    "\n",
    "    # Perform search\n",
    "    search_results = perform_search(query_embedding, document_embeddings, top_k=10)\n",
    "    results[query_number] = search_results\n",
    "\n",
    "# Step 4: Evaluate Precision and Recall\n",
    "print(\"\\nStep 4: Evaluating Precision and Recall...\")\n",
    "k_values = [1, 3, 5, 10]\n",
    "precision, recall = evaluate_precision_recall(results, ground_truth, k_values)\n",
    "\n",
    "print(\"Precision@k:\", precision)\n",
    "print(\"Recall@k:\", recall)\n",
    "\n",
    "# Debugging Outputs\n",
    "print(\"\\nSample Results:\")\n",
    "for query_num, retrieved_docs in list(results.items())[:5]:\n",
    "    print(f\"Query {query_num}: {retrieved_docs}\")\n"
   ]
  }
 ],
 "metadata": {
  "kernelspec": {
   "display_name": "venv",
   "language": "python",
   "name": "python3"
  },
  "language_info": {
   "codemirror_mode": {
    "name": "ipython",
    "version": 3
   },
   "file_extension": ".py",
   "mimetype": "text/x-python",
   "name": "python",
   "nbconvert_exporter": "python",
   "pygments_lexer": "ipython3",
   "version": "3.12.7"
  }
 },
 "nbformat": 4,
 "nbformat_minor": 2
}
